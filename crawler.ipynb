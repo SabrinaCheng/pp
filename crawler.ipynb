{
 "cells": [
  {
   "cell_type": "code",
   "execution_count": null,
   "metadata": {},
   "outputs": [],
   "source": [
    "# import sys\n",
    "# !{sys.executable} -m pip install beautifulsoup4"
   ]
  },
  {
   "cell_type": "code",
   "execution_count": 1,
   "metadata": {},
   "outputs": [],
   "source": [
    "import requests \n",
    "from selenium import webdriver\n",
    "from bs4 import BeautifulSoup \n",
    "import pandas as pd\n",
    "import csv "
   ]
  },
  {
   "cell_type": "code",
   "execution_count": 2,
   "metadata": {},
   "outputs": [],
   "source": [
    "df = pd.DataFrame(columns=['course', 'number', 'unknown', 'time', 'day', \\\n",
    "                           'building', 'room', 'seat', 'avail', 'wait'])"
   ]
  },
  {
   "cell_type": "code",
   "execution_count": 3,
   "metadata": {
    "scrolled": true
   },
   "outputs": [],
   "source": [
    "URL = \"https://registrar.indiana.edu/browser/soc4198/index.shtml\"\n",
    "r = requests.get(URL) \n",
    "  \n",
    "soup_d = BeautifulSoup(r.content, 'html5lib') "
   ]
  },
  {
   "cell_type": "code",
   "execution_count": 4,
   "metadata": {},
   "outputs": [],
   "source": [
    "depts = []\n",
    "for tag in soup_d.find_all('a'):\n",
    "    if tag.string is not None:\n",
    "        if tag.string.isupper():\n",
    "            depts.append(tag.string)"
   ]
  },
  {
   "cell_type": "code",
   "execution_count": 5,
   "metadata": {},
   "outputs": [],
   "source": [
    "driver = webdriver.Chrome()\n",
    "driver.get(URL)\n",
    "\n",
    "for d in depts[:2]:\n",
    "    driver.find_element_by_link_text(d).click()\n",
    "    soup_c = BeautifulSoup(driver.page_source)\n",
    "    courses = []\n",
    "    for tag in soup_c.find_all('a'):\n",
    "        if tag.string is not None:\n",
    "            if tag.string.isupper():\n",
    "                courses.append(tag.string)\n",
    "    for c in courses[:2]:\n",
    "        driver.find_element_by_link_text(c).click()\n",
    "        soup_t = BeautifulSoup(driver.page_source)\n",
    "        temp = soup_t.find_all('pre')[1]\n",
    "        fir = [temp.contents[1].string]\n",
    "        sec = temp.contents[2].split('\\n')[1].split()[0:6]\n",
    "        third = temp.contents[2].split('\\n')[1].split()[-3:]\n",
    "        df.loc[len(df)] = fir + sec + third\n",
    "        driver.back()\n",
    "    driver.back()\n",
    "        \n"
   ]
  },
  {
   "cell_type": "code",
   "execution_count": 6,
   "metadata": {},
   "outputs": [
    {
     "data": {
      "text/html": [
       "<div>\n",
       "<style scoped>\n",
       "    .dataframe tbody tr th:only-of-type {\n",
       "        vertical-align: middle;\n",
       "    }\n",
       "\n",
       "    .dataframe tbody tr th {\n",
       "        vertical-align: top;\n",
       "    }\n",
       "\n",
       "    .dataframe thead th {\n",
       "        text-align: right;\n",
       "    }\n",
       "</style>\n",
       "<table border=\"1\" class=\"dataframe\">\n",
       "  <thead>\n",
       "    <tr style=\"text-align: right;\">\n",
       "      <th></th>\n",
       "      <th>course</th>\n",
       "      <th>number</th>\n",
       "      <th>unknown</th>\n",
       "      <th>time</th>\n",
       "      <th>day</th>\n",
       "      <th>building</th>\n",
       "      <th>room</th>\n",
       "      <th>seat</th>\n",
       "      <th>avail</th>\n",
       "      <th>wait</th>\n",
       "    </tr>\n",
       "  </thead>\n",
       "  <tbody>\n",
       "    <tr>\n",
       "      <th>0</th>\n",
       "      <td>AAAD-A 100  AF AM DANCE COMPNY FOUNDATIONS (2 CR)</td>\n",
       "      <td>11915</td>\n",
       "      <td>PERM</td>\n",
       "      <td>03:30P-06:30P</td>\n",
       "      <td>TR</td>\n",
       "      <td>TH</td>\n",
       "      <td>A217</td>\n",
       "      <td>20</td>\n",
       "      <td>20</td>\n",
       "      <td>0</td>\n",
       "    </tr>\n",
       "    <tr>\n",
       "      <th>1</th>\n",
       "      <td>AAAD-A 110  AF AM CHORAL ENSEMBL FOUNDATNS (2 CR)</td>\n",
       "      <td>4219</td>\n",
       "      <td>02:30P-04:00P</td>\n",
       "      <td>MW</td>\n",
       "      <td>TH</td>\n",
       "      <td>A219</td>\n",
       "      <td>Wise</td>\n",
       "      <td>40</td>\n",
       "      <td>27</td>\n",
       "      <td>0</td>\n",
       "    </tr>\n",
       "    <tr>\n",
       "      <th>2</th>\n",
       "      <td>AADM-Y 500  TOPICS IN ARTS ADMINISTRATION (3 CR)</td>\n",
       "      <td>VT:</td>\n",
       "      <td>ARTS</td>\n",
       "      <td>WRITING</td>\n",
       "      <td>&amp;</td>\n",
       "      <td>ADV</td>\n",
       "      <td>MARKETING</td>\n",
       "      <td>&amp;</td>\n",
       "      <td>ADV</td>\n",
       "      <td>MARKETING</td>\n",
       "    </tr>\n",
       "    <tr>\n",
       "      <th>3</th>\n",
       "      <td>AADM-Y 502  INTRO ARTS ADMIN &amp; ORG BEHVIOR (3 CR)</td>\n",
       "      <td>9259</td>\n",
       "      <td>11:15A-12:30P</td>\n",
       "      <td>MW</td>\n",
       "      <td>PV</td>\n",
       "      <td>163</td>\n",
       "      <td>Kuhar</td>\n",
       "      <td>40</td>\n",
       "      <td>6</td>\n",
       "      <td>0</td>\n",
       "    </tr>\n",
       "  </tbody>\n",
       "</table>\n",
       "</div>"
      ],
      "text/plain": [
       "                                              course number        unknown  \\\n",
       "0  AAAD-A 100  AF AM DANCE COMPNY FOUNDATIONS (2 CR)  11915           PERM   \n",
       "1  AAAD-A 110  AF AM CHORAL ENSEMBL FOUNDATNS (2 CR)   4219  02:30P-04:00P   \n",
       "2   AADM-Y 500  TOPICS IN ARTS ADMINISTRATION (3 CR)    VT:           ARTS   \n",
       "3  AADM-Y 502  INTRO ARTS ADMIN & ORG BEHVIOR (3 CR)   9259  11:15A-12:30P   \n",
       "\n",
       "            time day building       room seat avail       wait  \n",
       "0  03:30P-06:30P  TR       TH       A217   20    20          0  \n",
       "1             MW  TH     A219       Wise   40    27          0  \n",
       "2        WRITING   &      ADV  MARKETING    &   ADV  MARKETING  \n",
       "3             MW  PV      163      Kuhar   40     6          0  "
      ]
     },
     "execution_count": 6,
     "metadata": {},
     "output_type": "execute_result"
    }
   ],
   "source": [
    "df"
   ]
  },
  {
   "cell_type": "code",
   "execution_count": null,
   "metadata": {},
   "outputs": [],
   "source": []
  }
 ],
 "metadata": {
  "kernelspec": {
   "display_name": "Python 3",
   "language": "python",
   "name": "python3"
  },
  "language_info": {
   "codemirror_mode": {
    "name": "ipython",
    "version": 3
   },
   "file_extension": ".py",
   "mimetype": "text/x-python",
   "name": "python",
   "nbconvert_exporter": "python",
   "pygments_lexer": "ipython3",
   "version": "3.7.4"
  }
 },
 "nbformat": 4,
 "nbformat_minor": 2
}
